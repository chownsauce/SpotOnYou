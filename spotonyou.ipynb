{
 "cells": [
  {
   "cell_type": "code",
   "execution_count": 1,
   "metadata": {},
   "outputs": [],
   "source": [
    "import spotipy\n",
    "from spotipy.oauth2 import SpotifyClientCredentials"
   ]
  },
  {
   "cell_type": "code",
   "execution_count": 2,
   "metadata": {},
   "outputs": [],
   "source": [
    "# Provide spotify Credential Id, Secret Id, User Id stuff\n",
    "cid = ''\n",
    "secret = ''\n",
    "user_id = \"\"\n",
    "\n",
    "# Provide youtube api key, channel Id, Client Secret File\n",
    "yt_api_key = \"\"\n",
    "channel_id = \"\"\n",
    "client_secrets_file = \"\"\n",
    "\n",
    "# Initializing and Connecting to Spotify\n",
    "client_credentials_manager = SpotifyClientCredentials(client_id=cid, client_secret=secret)\n",
    "sp = spotipy.Spotify(client_credentials_manager = client_credentials_manager)"
   ]
  },
  {
   "cell_type": "code",
   "execution_count": 3,
   "metadata": {},
   "outputs": [],
   "source": [
    "# Getting the whole playlist related Information\n",
    "my_play_list = sp.user_playlists(user_id, limit = 5)"
   ]
  },
  {
   "cell_type": "code",
   "execution_count": 7,
   "metadata": {},
   "outputs": [
    {
     "name": "stdout",
     "output_type": "stream",
     "text": [
      "All your current playlist:\n",
      "//rock\n",
      "Bluesway road\n",
      "indie\n"
     ]
    }
   ],
   "source": [
    "# Getting all the playlist Id and Name\n",
    "playlist_id = []\n",
    "playlistName = []\n",
    "print(\"All your current playlist:\")\n",
    "for item in my_play_list['items']:\n",
    "    playlist_id.append(item['id'])\n",
    "    playlistName.append(item['name'])\n",
    "    print(item['name'])\n",
    "    \n",
    "# Getting Each playlist related infornamtion   \n",
    "playlistTrackInfo = []\n",
    "for i in range(len(playlist_id)):\n",
    "    playlistTrackInfo.append(sp.user_playlist_tracks(user_id,playlist_id[i]))"
   ]
  },
  {
   "cell_type": "code",
   "execution_count": 8,
   "metadata": {},
   "outputs": [],
   "source": [
    "# Creating a dictionary where key = playlist Number , value = song+artist namee\n",
    "tracks = dict()\n",
    "\n",
    "for i in range(len(playlistTrackInfo)):\n",
    "    for item in playlistTrackInfo[i]['items']:\n",
    "        track_name = item['track']['name'] + ' by ' + item['track']['artists'][0]['name']\n",
    "        tracks.setdefault(i, []).append(track_name)"
   ]
  },
  {
   "cell_type": "code",
   "execution_count": 9,
   "metadata": {},
   "outputs": [
    {
     "name": "stdout",
     "output_type": "stream",
     "text": [
      "press 0 for //rock\n",
      "press 1 for Bluesway road\n",
      "press 2 for indie\n",
      "Select Spotify Playlist: \n",
      "0\n",
      "you've selected playlist: //rock\n"
     ]
    }
   ],
   "source": [
    "# Getting User Input [Which Spotify Playlist you want to Convert into a Youtube Playlist?]\n",
    "\n",
    "for i in range (len(playlistName)):\n",
    "    print(\"press \" + str(i) + \" for \" + str(playlistName[i]))\n",
    "\n",
    "print(\"Select Spotify Playlist: \")\n",
    "selected_playlist = input()\n",
    "print(\"you've selected playlist: \" + playlistName[int(selected_playlist)])"
   ]
  },
  {
   "cell_type": "code",
   "execution_count": 10,
   "metadata": {},
   "outputs": [],
   "source": [
    "# Initializing and Connecting Youtube API\n",
    "from apiclient.discovery import build\n",
    "youtube = build('youtube','v3', developerKey = yt_api_key)"
   ]
  },
  {
   "cell_type": "code",
   "execution_count": 20,
   "metadata": {},
   "outputs": [
    {
     "name": "stdout",
     "output_type": "stream",
     "text": [
      "Metalingus by Alter Bridge Done.\n",
      "In Loving Memory by Alter Bridge Done.\n",
      "Godspeed by Alter Bridge Done.\n",
      "The Fear by TRUSTcompany Done.\n",
      "Hover by TRUSTcompany Done.\n"
     ]
    }
   ],
   "source": [
    "# Getting all the songs from spotify playlist\n",
    "# search it on youtube and select the 1st URL\n",
    "# Take the video Ids of those tracks and store all of these informations\n",
    "urls = []\n",
    "kinds = []\n",
    "video_ids = []\n",
    "name_tracks_added = []\n",
    "\n",
    "for track in tracks[int(selected_playlist)]:\n",
    "    name_tracks_added.append(track)\n",
    "    print(track + \" Done.\")\n",
    "    req = youtube.search().list(q = track, part = 'snippet', type = 'video')\n",
    "    res = req.execute()\n",
    "    vid_id = res['items'][0]['id']['videoId']\n",
    "    kind = res['items'][0]['id']['kind']\n",
    "    kinds.append(kind)\n",
    "    video_ids.append(vid_id)\n",
    "    urls.append(\"https://www.youtube.com/watch?v=\" + vid_id)"
   ]
  },
  {
   "cell_type": "code",
   "execution_count": 12,
   "metadata": {},
   "outputs": [
    {
     "data": {
      "text/plain": [
       "['N-I8ALlYxdY', 'qcQ3iegpZTc', 'UND4qN0baL0', '11bK1jqIbuA', 'ic2mJT0q5BU']"
      ]
     },
     "execution_count": 12,
     "metadata": {},
     "output_type": "execute_result"
    }
   ],
   "source": [
    "# Printing all the video ids of the searched tracks\n",
    "video_ids"
   ]
  },
  {
   "cell_type": "code",
   "execution_count": 14,
   "metadata": {},
   "outputs": [],
   "source": [
    "# Requesting to connect youtube api for getting the Channel ID\n",
    "request = youtube.playlists().list(\n",
    "    part = \"snippet\",\n",
    "    channelId = channel_id,\n",
    "    maxResults = 50\n",
    ")\n",
    "res = request.execute()"
   ]
  },
  {
   "cell_type": "code",
   "execution_count": 15,
   "metadata": {},
   "outputs": [
    {
     "name": "stdout",
     "output_type": "stream",
     "text": [
      "['//rock_spotify', 'yesterdaySpotify', 'openSpot']\n",
      "['PLGDiI5oeF_UghJbZq34TqtjDv_PL9HC-U', 'PLGDiI5oeF_Uh3WDT1TReJZAG0MB--p-jn', 'PLGDiI5oeF_Ui3FsorVTcxVKwQ0MgjzOJr']\n"
     ]
    }
   ],
   "source": [
    "# Getting all the Playlist Names and ID of YOUTUBE\n",
    "playlist_names_yt = []\n",
    "playlist_id_yt = []\n",
    "\n",
    "for channel in res['items']:\n",
    "    playlist_names_yt.append(channel['snippet']['title'])\n",
    "    playlist_id_yt.append(channel['id'])\n",
    "print(playlist_names_yt)\n",
    "print(playlist_id_yt)"
   ]
  },
  {
   "cell_type": "code",
   "execution_count": 16,
   "metadata": {},
   "outputs": [
    {
     "name": "stdout",
     "output_type": "stream",
     "text": [
      "press 0 for //rock_spotify\n",
      "press 1 for yesterdaySpotify\n",
      "press 2 for openSpot\n",
      "Enter Youtube playlist\n",
      "0\n",
      "You've selected //rock_spotify\n"
     ]
    }
   ],
   "source": [
    "# Select on Which Youtube Playlist you want to save all the Spotify tracks\n",
    "for i in range (len(playlist_names_yt)):\n",
    "    print(\"press \" + str(i) + \" for \" + playlist_names_yt[i])\n",
    "print(\"Enter Youtube playlist\")\n",
    "selecte_yt_playlist = input()\n",
    "print(\"You've selected \"+ playlist_names_yt[int(selecte_yt_playlist)])\n",
    "\n",
    "\n",
    "selected_yt_playlist = playlist_id_yt[int(selecte_yt_playlist)]"
   ]
  },
  {
   "cell_type": "code",
   "execution_count": 17,
   "metadata": {},
   "outputs": [
    {
     "name": "stdout",
     "output_type": "stream",
     "text": [
      "Please visit this URL to authorize this application: https://accounts.google.com/o/oauth2/auth?response_type=code&client_id=178586316215-gjb147i0953b41npbl8mnbnblgm8laeo.apps.googleusercontent.com&redirect_uri=urn%3Aietf%3Awg%3Aoauth%3A2.0%3Aoob&scope=https%3A%2F%2Fwww.googleapis.com%2Fauth%2Fyoutube.force-ssl&state=VvhMhw3815fvH9iGiGF52lzfWglykT&prompt=consent&access_type=offline\n",
      "Enter the authorization code: 4/2gH2tDraQvTh592KCNN-8354ng-e6vgYJeDt-1e7l3fDjFcDyBDV4YQ\n"
     ]
    }
   ],
   "source": [
    "# THIS FOR GOOGLE O'AUTH STUFF\n",
    "import google_auth_oauthlib.flow\n",
    "scops =[\"\"]\n",
    "flow = google_auth_oauthlib.flow.InstalledAppFlow.from_client_secrets_file(client_secrets_file, scops)\n",
    "credentials = flow.run_console()"
   ]
  },
  {
   "cell_type": "code",
   "execution_count": 18,
   "metadata": {},
   "outputs": [],
   "source": [
    "# Technical stuff (google o'auth, youtube data api credentials)\n",
    "import googleapiclient.discovery\n",
    "youtube = googleapiclient.discovery.build(\n",
    "        \"youtube\", \"v3\",credentials=credentials)"
   ]
  },
  {
   "cell_type": "code",
   "execution_count": 21,
   "metadata": {},
   "outputs": [
    {
     "name": "stdout",
     "output_type": "stream",
     "text": [
      "Selected Playlist Name: //rock_spotify\n",
      "Metalingus by Alter Bridge Done..\n",
      "In Loving Memory by Alter Bridge Done..\n",
      "Godspeed by Alter Bridge Done..\n",
      "The Fear by TRUSTcompany Done..\n",
      "Hover by TRUSTcompany Done..\n"
     ]
    }
   ],
   "source": [
    "# add all the spotify songs in youtube list\n",
    "print(\"Selected Playlist Name: \" + playlist_names_yt[int(selecte_yt_playlist)])\n",
    "\n",
    "for index,vid in enumerate(video_ids):\n",
    "    request = youtube.playlistItems().insert(part=\"snippet\",\n",
    "        body={\n",
    "          \"snippet\": {\n",
    "            \"playlistId\": selected_yt_playlist,\n",
    "            \"position\": 0,\n",
    "            \"resourceId\": {\n",
    "              \"kind\": \"youtube#video\",\n",
    "              \"videoId\": vid\n",
    "            }\n",
    "          }\n",
    "        }\n",
    "    )\n",
    "    response = request.execute()\n",
    "    print(name_tracks_added[index] + \" Added..\")"
   ]
  }
 ],
 "metadata": {
  "kernelspec": {
   "display_name": "Python 3",
   "language": "python",
   "name": "python3"
  },
  "language_info": {
   "codemirror_mode": {
    "name": "ipython",
    "version": 3
   },
   "file_extension": ".py",
   "mimetype": "text/x-python",
   "name": "python",
   "nbconvert_exporter": "python",
   "pygments_lexer": "ipython3",
   "version": "3.8.0"
  }
 },
 "nbformat": 4,
 "nbformat_minor": 4
}
